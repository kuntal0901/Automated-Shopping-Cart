{
 "cells": [
  {
   "cell_type": "code",
   "execution_count": 1,
   "metadata": {},
   "outputs": [],
   "source": [
    "import pathlib\n",
    "from PIL import Image\n",
    "import cv2\n",
    "import os\n"
   ]
  },
  {
   "cell_type": "code",
   "execution_count": 4,
   "metadata": {},
   "outputs": [],
   "source": [
    "folders_to_consider=[]\n",
    "dataset_folder=\"..\\\\..\\\\newdataset_combine\\\\train\"\n",
    "dataset_folder=pathlib.Path(dataset_folder)\n",
    "for i in dataset_folder.glob(\"*\"):\n",
    "    path_ex=str(i).split(\"\\\\\")   \n",
    "    temp=path_ex[-1]\n",
    "    temp=temp.replace('_',' ')\n",
    "    temp=temp.capitalize()\n",
    "    new_folder_name=temp\n",
    "    new_path=\"\\\\\".join(path_ex[:-1])+\"\\\\\"+new_folder_name\n",
    "    new_path=new_path.replace('newdataset_combine','final_dataset')\n",
    "    if(not os.path.isdir(new_path)):\n",
    "        os.makedirs(new_path)    \n",
    "    for j in i.glob(\"*\"):\n",
    "        filename = str(j).split(\"\\\\\")[-1]\n",
    "        new_path_final=new_path+\"\\\\\"+filename\n",
    "        img=Image.open(j).convert(\"RGB\")\n",
    "        img.save(new_path_final)"
   ]
  }
 ],
 "metadata": {
  "kernelspec": {
   "display_name": "Python 3.8.3 64-bit",
   "language": "python",
   "name": "python3"
  },
  "language_info": {
   "codemirror_mode": {
    "name": "ipython",
    "version": 3
   },
   "file_extension": ".py",
   "mimetype": "text/x-python",
   "name": "python",
   "nbconvert_exporter": "python",
   "pygments_lexer": "ipython3",
   "version": "3.8.3"
  },
  "orig_nbformat": 4,
  "vscode": {
   "interpreter": {
    "hash": "d3c6b6b45bebb02606c3646cfdec0e122a65570bb0ce8be8aafe2349a76bca39"
   }
  }
 },
 "nbformat": 4,
 "nbformat_minor": 2
}
