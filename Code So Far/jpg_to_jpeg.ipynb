{
 "cells": [
  {
   "cell_type": "code",
   "execution_count": 9,
   "metadata": {},
   "outputs": [
    {
     "data": {
      "text/plain": [
       "WindowsPath('../dataset/train')"
      ]
     },
     "execution_count": 9,
     "metadata": {},
     "output_type": "execute_result"
    }
   ],
   "source": [
    "from PIL import Image\n",
    "import pathlib\n",
    "import os\n",
    "train_dir=\"..\\\\dataset\\\\train\"\n",
    "train_dir = pathlib.Path(train_dir)\n",
    "train_dir\n"
   ]
  },
  {
   "cell_type": "code",
   "execution_count": 13,
   "metadata": {},
   "outputs": [],
   "source": [
    "for i in train_dir.glob(\"*\"):\n",
    "    counter=0\n",
    "    for j in i.glob(\"*\"):\n",
    "        path_open=str(j)        \n",
    "        new_path=path_open.replace(\"dataset\",\"newdataset\")\n",
    "        dir='\\\\'.join(new_path.split(\"\\\\\")[:-1])\n",
    "        # print(dir)\n",
    "        if not os.path.isdir(dir):\n",
    "            os.makedirs(dir)        \n",
    "        new_path='\\\\'.join(new_path.split(\"\\\\\")[:-1])+'\\\\'+str(counter)+\".jpeg\"\n",
    "        counter+=1\n",
    "        # print(new_path)\n",
    "        im1 = Image.open(path_open).convert('RGB')\n",
    "        im1.save(new_path)"
   ]
  },
  {
   "cell_type": "code",
   "execution_count": null,
   "metadata": {},
   "outputs": [],
   "source": []
  }
 ],
 "metadata": {
  "kernelspec": {
   "display_name": "Python 3.8.3 64-bit",
   "language": "python",
   "name": "python3"
  },
  "language_info": {
   "codemirror_mode": {
    "name": "ipython",
    "version": 3
   },
   "file_extension": ".py",
   "mimetype": "text/x-python",
   "name": "python",
   "nbconvert_exporter": "python",
   "pygments_lexer": "ipython3",
   "version": "3.8.3"
  },
  "orig_nbformat": 4,
  "vscode": {
   "interpreter": {
    "hash": "d3c6b6b45bebb02606c3646cfdec0e122a65570bb0ce8be8aafe2349a76bca39"
   }
  }
 },
 "nbformat": 4,
 "nbformat_minor": 2
}
