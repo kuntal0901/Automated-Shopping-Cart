{
 "cells": [
  {
   "cell_type": "code",
   "execution_count": 1,
   "metadata": {},
   "outputs": [],
   "source": [
    "import yaml\n",
    "import bs4\n",
    "import requests\n",
    "from selenium import webdriver\n",
    "import os\n",
    "import time\n",
    "from selenium.webdriver.common.keys import Keys\n",
    "import pathlib"
   ]
  },
  {
   "cell_type": "code",
   "execution_count": 2,
   "metadata": {},
   "outputs": [
    {
     "name": "stdout",
     "output_type": "stream",
     "text": [
      "{'Fruit': ['Red Apple', 'Green Apple', 'Banana', 'Yellaki Banana', 'Kiran Watermelon', 'Papaya', 'Brown Coconut', 'Pomegranate', 'Kiwi', 'Muskmelon', 'Sweet lime', 'Guava', 'Custard apple', 'Pineapple', 'Orange', 'Pear', 'Mango Raw', 'Mango', 'Dragonfruit', 'Green Grapes', 'JackFruit', 'Strawberry'], 'Vegetable': ['Onion', 'Potato', 'Baby Potato', 'CauliFlower', 'Green Chilli', 'Ooty Carrot', 'Cucumber', 'Okra', 'Tomato', 'Mushroom', 'Ginger', 'Green Capscium', 'Red Capscium', 'Yellow Capscium', 'Cabbage', 'Garlic', 'Black brinjal', 'Pointed gourd', 'French Beans', 'Ridge gourd', 'Orange Carrot', 'Beetroot', 'Drumstick', 'Coccinea', 'Green Pumpkin', 'Radish', 'Bittergourd', 'Sweet Potato', 'Yam', 'Green Zuchini', 'Yellow Zuchini', 'Lemon']}\n"
     ]
    }
   ],
   "source": [
    "fp=open(\"Classes.yaml\")\n",
    "d1=yaml.safe_load(fp)\n",
    "print(d1)\n",
    "Go_Nogo={\"Yes\":[],\"No\":[]}"
   ]
  },
  {
   "cell_type": "code",
   "execution_count": 3,
   "metadata": {},
   "outputs": [],
   "source": [
    "def download_images_name(name,class_bel,finals):\n",
    "    driver = webdriver.Chrome('C:\\chromedriver.exe')\n",
    "    driver.get('https://www.google.co.in/imghp?hl=en&authuser=0&ogbl')\n",
    "    box = driver.find_element('xpath','/html/body/div[1]/div[3]/form/div[1]/div[1]/div[1]/div/div[2]/input')\n",
    "    if(name!=\"Brown Coconut\"):\n",
    "        box.send_keys(name+\" \"+class_bel)\n",
    "    else:\n",
    "        box.send_keys(name)\n",
    "    box.send_keys(Keys.ENTER)   \n",
    "    hmm=input(\"Give Yes or no for\"+name)\n",
    "    finals[hmm.lower().capitalize()].append(name)    \n",
    "    driver.close()\n",
    "    # box.send_keys(Keys.ALT+Keys.F4)\n",
    "    # folder_name =\".\\\\NewDataset\\\\\"+name\n",
    "    # if not os.path.isdir(folder_name):\n",
    "    #     os.makedirs(folder_name)\n",
    "    # else:\n",
    "    #     os.rmdir(folder_name)\n",
    "    \n",
    "    \n",
    "    "
   ]
  },
  {
   "cell_type": "code",
   "execution_count": 4,
   "metadata": {},
   "outputs": [
    {
     "name": "stderr",
     "output_type": "stream",
     "text": [
      "C:\\Users\\santo\\AppData\\Local\\Temp\\ipykernel_11308\\3293542364.py:2: DeprecationWarning: executable_path has been deprecated, please pass in a Service object\n",
      "  driver = webdriver.Chrome('C:\\chromedriver.exe')\n"
     ]
    },
    {
     "name": "stdout",
     "output_type": "stream",
     "text": [
      "{'Fruit': ['Red Apple', 'Green Apple', 'Banana', 'Yellaki Banana', 'Kiran Watermelon', 'Papaya', 'Brown Coconut', 'Pomegranate', 'Kiwi', 'Muskmelon', 'Sweet lime', 'Guava', 'Custard apple', 'Pineapple', 'Orange', 'Pear', 'Mango Raw', 'Mango', 'Dragonfruit', 'Green Grapes', 'JackFruit', 'Strawberry'], 'Vegetable': ['Onion', 'Potato', 'Baby Potato', 'CauliFlower', 'Green Chilli', 'Ooty Carrot', 'Cucumber', 'Okra', 'Tomato', 'Mushroom', 'Ginger', 'Green Capscium', 'Red Capscium', 'Yellow Capscium', 'Cabbage', 'Garlic', 'Black brinjal', 'Pointed gourd', 'French Beans', 'Ridge gourd', 'Orange Carrot', 'Beetroot', 'Drumstick', 'Coccinea', 'Green Pumpkin', 'Radish', 'Bittergourd', 'Sweet Potato', 'Yam', 'Green Zuchini', 'Yellow Zuchini', 'Lemon']}\n"
     ]
    }
   ],
   "source": [
    "for i in d1:\n",
    "    for j in d1[i]:\n",
    "        download_images_name(j,i,Go_Nogo)\n",
    "\n",
    "print(d1)"
   ]
  },
  {
   "cell_type": "code",
   "execution_count": 5,
   "metadata": {},
   "outputs": [
    {
     "data": {
      "text/plain": [
       "{'Yes': ['Red Apple',\n",
       "  'Green Apple',\n",
       "  'Banana',\n",
       "  'Yellaki Banana',\n",
       "  'Kiran Watermelon',\n",
       "  'Papaya',\n",
       "  'Pomegranate',\n",
       "  'Kiwi',\n",
       "  'Muskmelon',\n",
       "  'Sweet lime',\n",
       "  'Guava',\n",
       "  'Custard apple',\n",
       "  'Pineapple',\n",
       "  'Orange',\n",
       "  'Pear',\n",
       "  'Mango Raw',\n",
       "  'Mango',\n",
       "  'Dragonfruit',\n",
       "  'Green Grapes',\n",
       "  'JackFruit',\n",
       "  'Strawberry',\n",
       "  'Onion',\n",
       "  'Potato',\n",
       "  'Baby Potato',\n",
       "  'CauliFlower',\n",
       "  'Green Chilli',\n",
       "  'Ooty Carrot',\n",
       "  'Okra',\n",
       "  'Tomato',\n",
       "  'Mushroom',\n",
       "  'Ginger',\n",
       "  'Green Capscium',\n",
       "  'Red Capscium',\n",
       "  'Yellow Capscium',\n",
       "  'Cabbage',\n",
       "  'Garlic',\n",
       "  'Black brinjal',\n",
       "  'Pointed gourd',\n",
       "  'French Beans',\n",
       "  'Ridge gourd',\n",
       "  'Orange Carrot',\n",
       "  'Beetroot',\n",
       "  'Drumstick',\n",
       "  'Coccinea',\n",
       "  'Green Pumpkin',\n",
       "  'Radish',\n",
       "  'Bittergourd',\n",
       "  'Sweet Potato',\n",
       "  'Yam',\n",
       "  'Green Zuchini',\n",
       "  'Yellow Zuchini',\n",
       "  'Lemon'],\n",
       " 'No': ['Brown Coconut', 'Cucumber']}"
      ]
     },
     "execution_count": 5,
     "metadata": {},
     "output_type": "execute_result"
    }
   ],
   "source": [
    "Go_Nogo"
   ]
  },
  {
   "cell_type": "code",
   "execution_count": null,
   "metadata": {},
   "outputs": [],
   "source": []
  }
 ],
 "metadata": {
  "kernelspec": {
   "display_name": "Python 3.8.3 64-bit",
   "language": "python",
   "name": "python3"
  },
  "language_info": {
   "codemirror_mode": {
    "name": "ipython",
    "version": 3
   },
   "file_extension": ".py",
   "mimetype": "text/x-python",
   "name": "python",
   "nbconvert_exporter": "python",
   "pygments_lexer": "ipython3",
   "version": "3.8.3"
  },
  "orig_nbformat": 4,
  "vscode": {
   "interpreter": {
    "hash": "d3c6b6b45bebb02606c3646cfdec0e122a65570bb0ce8be8aafe2349a76bca39"
   }
  }
 },
 "nbformat": 4,
 "nbformat_minor": 2
}
