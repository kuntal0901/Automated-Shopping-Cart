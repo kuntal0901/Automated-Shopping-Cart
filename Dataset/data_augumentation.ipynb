{
 "cells": [
  {
   "cell_type": "code",
   "execution_count": 1,
   "metadata": {},
   "outputs": [],
   "source": [
    "import imageio\n",
    "import imgaug as ia\n",
    "import imgaug.augmenters as iaa\n",
    "import ipyplot\n",
    "import pathlib\n",
    "from PIL import Image as im"
   ]
  },
  {
   "cell_type": "code",
   "execution_count": 2,
   "metadata": {},
   "outputs": [
    {
     "name": "stderr",
     "output_type": "stream",
     "text": [
      "C:\\Users\\santo\\AppData\\Local\\Temp\\ipykernel_19936\\2034222399.py:7: DeprecationWarning: Starting with ImageIO v3 the behavior of this function will switch to that of iio.v3.imread. To keep the current behavior (and make this warning dissapear) use `import imageio.v2 as imageio` or call `imageio.v2.imread` directly.\n",
      "  input_img = imageio.imread(image_path)\n"
     ]
    },
    {
     "ename": "ValueError",
     "evalue": "Could not find a backend to open `NewDataset\\Banana\\149_z.jpeg`` with iomode `ri`.\nBased on the extension, the following plugins might add capable backends:\n  pyav:  pip install imageio[pyav]",
     "output_type": "error",
     "traceback": [
      "\u001b[1;31m---------------------------------------------------------------------------\u001b[0m",
      "\u001b[1;31mValueError\u001b[0m                                Traceback (most recent call last)",
      "\u001b[1;32mc:\\Users\\santo\\OneDrive - PESUNIVERSITY\\Desktop\\Santosh\\PESU\\3rd Year\\6th Sem\\Capstone\\Captone_Git\\Automated-Shopping-Cart\\Dataset\\data_augumentation.ipynb Cell 2\u001b[0m in \u001b[0;36m<cell line: 3>\u001b[1;34m()\u001b[0m\n\u001b[0;32m      <a href='vscode-notebook-cell:/c%3A/Users/santo/OneDrive%20-%20PESUNIVERSITY/Desktop/Santosh/PESU/3rd%20Year/6th%20Sem/Capstone/Captone_Git/Automated-Shopping-Cart/Dataset/data_augumentation.ipynb#X10sZmlsZQ%3D%3D?line=4'>5</a>\u001b[0m image_path\u001b[39m=\u001b[39m\u001b[39mstr\u001b[39m(j)\n\u001b[0;32m      <a href='vscode-notebook-cell:/c%3A/Users/santo/OneDrive%20-%20PESUNIVERSITY/Desktop/Santosh/PESU/3rd%20Year/6th%20Sem/Capstone/Captone_Git/Automated-Shopping-Cart/Dataset/data_augumentation.ipynb#X10sZmlsZQ%3D%3D?line=5'>6</a>\u001b[0m image_name\u001b[39m=\u001b[39mimage_path\u001b[39m.\u001b[39msplit(\u001b[39m'\u001b[39m\u001b[39m\\\\\u001b[39;00m\u001b[39m'\u001b[39m)[\u001b[39m-\u001b[39m\u001b[39m1\u001b[39m]\n\u001b[1;32m----> <a href='vscode-notebook-cell:/c%3A/Users/santo/OneDrive%20-%20PESUNIVERSITY/Desktop/Santosh/PESU/3rd%20Year/6th%20Sem/Capstone/Captone_Git/Automated-Shopping-Cart/Dataset/data_augumentation.ipynb#X10sZmlsZQ%3D%3D?line=6'>7</a>\u001b[0m input_img \u001b[39m=\u001b[39m imageio\u001b[39m.\u001b[39;49mimread(image_path)\n\u001b[0;32m      <a href='vscode-notebook-cell:/c%3A/Users/santo/OneDrive%20-%20PESUNIVERSITY/Desktop/Santosh/PESU/3rd%20Year/6th%20Sem/Capstone/Captone_Git/Automated-Shopping-Cart/Dataset/data_augumentation.ipynb#X10sZmlsZQ%3D%3D?line=7'>8</a>\u001b[0m \u001b[39m#Horizontal Flip\u001b[39;00m\n\u001b[0;32m      <a href='vscode-notebook-cell:/c%3A/Users/santo/OneDrive%20-%20PESUNIVERSITY/Desktop/Santosh/PESU/3rd%20Year/6th%20Sem/Capstone/Captone_Git/Automated-Shopping-Cart/Dataset/data_augumentation.ipynb#X10sZmlsZQ%3D%3D?line=8'>9</a>\u001b[0m hflip\u001b[39m=\u001b[39m iaa\u001b[39m.\u001b[39mFliplr(p\u001b[39m=\u001b[39m\u001b[39m1.0\u001b[39m)               \n",
      "File \u001b[1;32mc:\\Users\\santo\\AppData\\Local\\Programs\\Python\\Python38\\lib\\site-packages\\imageio\\__init__.py:97\u001b[0m, in \u001b[0;36mimread\u001b[1;34m(uri, format, **kwargs)\u001b[0m\n\u001b[0;32m     68\u001b[0m \u001b[39m\"\"\"imread(uri, format=None, **kwargs)\u001b[39;00m\n\u001b[0;32m     69\u001b[0m \n\u001b[0;32m     70\u001b[0m \u001b[39mReads an image from the specified file. Returns a numpy array, which\u001b[39;00m\n\u001b[1;32m   (...)\u001b[0m\n\u001b[0;32m     86\u001b[0m \u001b[39m    to see what arguments are available for a particular format.\u001b[39;00m\n\u001b[0;32m     87\u001b[0m \u001b[39m\"\"\"\u001b[39;00m\n\u001b[0;32m     89\u001b[0m warnings\u001b[39m.\u001b[39mwarn(\n\u001b[0;32m     90\u001b[0m     \u001b[39m\"\u001b[39m\u001b[39mStarting with ImageIO v3 the behavior of this function will switch to that of\u001b[39m\u001b[39m\"\u001b[39m\n\u001b[0;32m     91\u001b[0m     \u001b[39m\"\u001b[39m\u001b[39m iio.v3.imread. To keep the current behavior (and make this warning dissapear)\u001b[39m\u001b[39m\"\u001b[39m\n\u001b[1;32m   (...)\u001b[0m\n\u001b[0;32m     94\u001b[0m     stacklevel\u001b[39m=\u001b[39m\u001b[39m2\u001b[39m,\n\u001b[0;32m     95\u001b[0m )\n\u001b[1;32m---> 97\u001b[0m \u001b[39mreturn\u001b[39;00m imread_v2(uri, \u001b[39mformat\u001b[39;49m\u001b[39m=\u001b[39;49m\u001b[39mformat\u001b[39;49m, \u001b[39m*\u001b[39;49m\u001b[39m*\u001b[39;49mkwargs)\n",
      "File \u001b[1;32mc:\\Users\\santo\\AppData\\Local\\Programs\\Python\\Python38\\lib\\site-packages\\imageio\\v2.py:200\u001b[0m, in \u001b[0;36mimread\u001b[1;34m(uri, format, **kwargs)\u001b[0m\n\u001b[0;32m    197\u001b[0m imopen_args \u001b[39m=\u001b[39m decypher_format_arg(\u001b[39mformat\u001b[39m)\n\u001b[0;32m    198\u001b[0m imopen_args[\u001b[39m\"\u001b[39m\u001b[39mlegacy_mode\u001b[39m\u001b[39m\"\u001b[39m] \u001b[39m=\u001b[39m \u001b[39mTrue\u001b[39;00m\n\u001b[1;32m--> 200\u001b[0m \u001b[39mwith\u001b[39;00m imopen(uri, \u001b[39m\"\u001b[39;49m\u001b[39mri\u001b[39;49m\u001b[39m\"\u001b[39;49m, \u001b[39m*\u001b[39;49m\u001b[39m*\u001b[39;49mimopen_args) \u001b[39mas\u001b[39;00m file:\n\u001b[0;32m    201\u001b[0m     \u001b[39mreturn\u001b[39;00m file\u001b[39m.\u001b[39mread(index\u001b[39m=\u001b[39m\u001b[39m0\u001b[39m, \u001b[39m*\u001b[39m\u001b[39m*\u001b[39mkwargs)\n",
      "File \u001b[1;32mc:\\Users\\santo\\AppData\\Local\\Programs\\Python\\Python38\\lib\\site-packages\\imageio\\core\\imopen.py:303\u001b[0m, in \u001b[0;36mimopen\u001b[1;34m(uri, io_mode, plugin, extension, format_hint, legacy_mode, **kwargs)\u001b[0m\n\u001b[0;32m    297\u001b[0m         err_msg \u001b[39m+\u001b[39m\u001b[39m=\u001b[39m (\n\u001b[0;32m    298\u001b[0m             \u001b[39m\"\u001b[39m\u001b[39m\\n\u001b[39;00m\u001b[39mBased on the extension, the following plugins might add capable backends:\u001b[39m\u001b[39m\\n\u001b[39;00m\u001b[39m\"\u001b[39m\n\u001b[0;32m    299\u001b[0m             \u001b[39mf\u001b[39m\u001b[39m\"\u001b[39m\u001b[39m{\u001b[39;00minstall_candidates\u001b[39m}\u001b[39;00m\u001b[39m\"\u001b[39m\n\u001b[0;32m    300\u001b[0m         )\n\u001b[0;32m    302\u001b[0m request\u001b[39m.\u001b[39mfinish()\n\u001b[1;32m--> 303\u001b[0m \u001b[39mraise\u001b[39;00m err_type(err_msg)\n",
      "\u001b[1;31mValueError\u001b[0m: Could not find a backend to open `NewDataset\\Banana\\149_z.jpeg`` with iomode `ri`.\nBased on the extension, the following plugins might add capable backends:\n  pyav:  pip install imageio[pyav]"
     ]
    }
   ],
   "source": [
    "path=r'./NewDataset/'\n",
    "path=pathlib.Path(path)\n",
    "for i in path.glob('*'):\n",
    "    for j in i.glob('*'):\n",
    "        try:\n",
    "            image_path=str(j)\n",
    "            image_name=image_path.split('\\\\')[-1]\n",
    "            input_img = imageio.imread(image_path)\n",
    "            #Horizontal Flip\n",
    "            hflip= iaa.Fliplr(p=1.0)               \n",
    "            input_hf= hflip.augment_image(input_img)\n",
    "            dest_image_name=image_path.replace(image_name,'hori_'+image_name)\n",
    "            im.fromarray(input_hf).convert('RGB').save(dest_image_name)\n",
    "            #Vertical Flip\n",
    "            vflip= iaa.Flipud(p=1.0) \n",
    "            input_vf= vflip.augment_image(input_img)\n",
    "            dest_image_name=image_path.replace(image_name,'verti_'+image_name)\n",
    "            im.fromarray(input_vf).convert('RGB').save(dest_image_name)\n",
    "            rot1 = iaa.Affine(rotate=(-50,20))\n",
    "            input_rot1 = rot1.augment_image(input_img)\n",
    "            dest_image_name=image_path.replace(image_name,'rota_'+image_name)\n",
    "            im.fromarray(input_rot1).convert('RGB').save(dest_image_name)\n",
    "            crop1 = iaa.Crop(percent=(0, 0.3)) \n",
    "            input_crop1 = crop1.augment_image(input_img)\n",
    "            dest_image_name=image_path.replace(image_name,'crop_'+image_name)\n",
    "            im.fromarray(input_crop1).convert('RGB').save(dest_image_name)\n",
    "            noise=iaa.AdditiveGaussianNoise(10,40)\n",
    "            input_noise=noise.augment_image(input_img)\n",
    "            dest_image_name=image_path.replace(image_name,'noisy_'+image_name)\n",
    "            im.fromarray(input_noise).convert('RGB').save(dest_image_name)\n",
    "            shear = iaa.Affine(shear=(-40,40))\n",
    "            input_shear=shear.augment_image(input_img)\n",
    "            dest_image_name=image_path.replace(image_name,'affined_'+image_name)\n",
    "            im.fromarray(input_shear).convert('RGB').save(dest_image_name)\n",
    "        except Exception as e:\n",
    "            fp=open('error_log.txt','w+')\n",
    "            stri='Error '+str(e)+'\\n'\n",
    "            fp.write(stri)\n",
    "            fp.close()\n",
    "        "
   ]
  },
  {
   "cell_type": "code",
   "execution_count": null,
   "metadata": {},
   "outputs": [],
   "source": []
  }
 ],
 "metadata": {
  "kernelspec": {
   "display_name": "Python 3.8.3 64-bit",
   "language": "python",
   "name": "python3"
  },
  "language_info": {
   "codemirror_mode": {
    "name": "ipython",
    "version": 3
   },
   "file_extension": ".py",
   "mimetype": "text/x-python",
   "name": "python",
   "nbconvert_exporter": "python",
   "pygments_lexer": "ipython3",
   "version": "3.8.3"
  },
  "orig_nbformat": 4,
  "vscode": {
   "interpreter": {
    "hash": "d3c6b6b45bebb02606c3646cfdec0e122a65570bb0ce8be8aafe2349a76bca39"
   }
  }
 },
 "nbformat": 4,
 "nbformat_minor": 2
}
