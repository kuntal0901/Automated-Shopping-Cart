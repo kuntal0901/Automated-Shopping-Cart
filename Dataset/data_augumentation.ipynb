{
 "cells": [
  {
   "cell_type": "code",
   "execution_count": null,
   "metadata": {},
   "outputs": [],
   "source": [
    "import imageio\n",
    "import imgaug as ia\n",
    "import imgaug.augmenters as iaa\n",
    "import ipyplot\n",
    "import pathlib\n",
    "from PIL import Image as im"
   ]
  },
  {
   "cell_type": "code",
   "execution_count": null,
   "metadata": {},
   "outputs": [],
   "source": [
    "path=r'./NewDataset/'\n",
    "path=pathlib.Path(path)\n",
    "for i in path.glob('*'):\n",
    "    for j in i.glob('*'):\n",
    "        try:\n",
    "            image_path=str(j)\n",
    "            image_name=image_path.split('\\\\')[-1]\n",
    "            input_img = imageio.imread(image_path)\n",
    "            #Horizontal Flip\n",
    "            hflip= iaa.Fliplr(p=1.0)               \n",
    "            input_hf= hflip.augment_image(input_img)\n",
    "            dest_image_name=image_path.replace(image_name,'hori_'+image_name)\n",
    "            im.fromarray(input_hf).convert('RGB').save(dest_image_name)\n",
    "            #Vertical Flip\n",
    "            vflip= iaa.Flipud(p=1.0) \n",
    "            input_vf= vflip.augment_image(input_img)\n",
    "            dest_image_name=image_path.replace(image_name,'verti_'+image_name)\n",
    "            im.fromarray(input_vf).convert('RGB').save(dest_image_name)\n",
    "            rot1 = iaa.Affine(rotate=(-50,20))\n",
    "            input_rot1 = rot1.augment_image(input_img)\n",
    "            dest_image_name=image_path.replace(image_name,'rota_'+image_name)\n",
    "            im.fromarray(input_rot1).convert('RGB').save(dest_image_name)\n",
    "            crop1 = iaa.Crop(percent=(0, 0.3)) \n",
    "            input_crop1 = crop1.augment_image(input_img)\n",
    "            dest_image_name=image_path.replace(image_name,'crop_'+image_name)\n",
    "            im.fromarray(input_crop1).convert('RGB').save(dest_image_name)\n",
    "            noise=iaa.AdditiveGaussianNoise(10,40)\n",
    "            input_noise=noise.augment_image(input_img)\n",
    "            dest_image_name=image_path.replace(image_name,'noisy_'+image_name)\n",
    "            im.fromarray(input_noise).convert('RGB').save(dest_image_name)\n",
    "            shear = iaa.Affine(shear=(-40,40))\n",
    "            input_shear=shear.augment_image(input_img)\n",
    "            dest_image_name=image_path.replace(image_name,'affined_'+image_name)\n",
    "            im.fromarray(input_shear).convert('RGB').save(dest_image_name)\n",
    "        except Exception as e:\n",
    "            fp=open('error_log.txt','w+')\n",
    "            stri='Error '+str(e)+'\\n'\n",
    "            fp.write(stri)\n",
    "            fp.close()\n",
    "        "
   ]
  },
  {
   "cell_type": "code",
   "execution_count": null,
   "metadata": {},
   "outputs": [],
   "source": []
  }
 ],
 "metadata": {
  "kernelspec": {
   "display_name": "Python 3.8.3 64-bit",
   "language": "python",
   "name": "python3"
  },
  "language_info": {
   "codemirror_mode": {
    "name": "ipython",
    "version": 3
   },
   "file_extension": ".py",
   "mimetype": "text/x-python",
   "name": "python",
   "nbconvert_exporter": "python",
   "pygments_lexer": "ipython3",
   "version": "3.8.3"
  },
  "orig_nbformat": 4,
  "vscode": {
   "interpreter": {
    "hash": "d3c6b6b45bebb02606c3646cfdec0e122a65570bb0ce8be8aafe2349a76bca39"
   }
  }
 },
 "nbformat": 4,
 "nbformat_minor": 2
}
