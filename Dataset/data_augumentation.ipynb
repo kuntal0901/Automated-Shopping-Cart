{
 "cells": [
  {
   "cell_type": "code",
   "execution_count": 1,
   "metadata": {},
   "outputs": [],
   "source": [
    "import imageio\n",
    "import imgaug as ia\n",
    "import imgaug.augmenters as iaa\n",
    "import ipyplot\n",
    "import pathlib\n",
    "from PIL import Image as im\n",
    "import plotly.express as px\n",
    "import pandas as pd\n",
    "import numpy as np\n",
    "from pandas import Series,DataFrame\n",
    "import os"
   ]
  },
  {
   "cell_type": "markdown",
   "metadata": {},
   "source": [
    "Images Before Augumentation"
   ]
  },
  {
   "cell_type": "code",
   "execution_count": 2,
   "metadata": {},
   "outputs": [
    {
     "data": {
      "text/html": [
       "<div>\n",
       "<style scoped>\n",
       "    .dataframe tbody tr th:only-of-type {\n",
       "        vertical-align: middle;\n",
       "    }\n",
       "\n",
       "    .dataframe tbody tr th {\n",
       "        vertical-align: top;\n",
       "    }\n",
       "\n",
       "    .dataframe thead th {\n",
       "        text-align: right;\n",
       "    }\n",
       "</style>\n",
       "<table border=\"1\" class=\"dataframe\">\n",
       "  <thead>\n",
       "    <tr style=\"text-align: right;\">\n",
       "      <th></th>\n",
       "      <th>Classes</th>\n",
       "      <th>Count of Class</th>\n",
       "    </tr>\n",
       "  </thead>\n",
       "  <tbody>\n",
       "    <tr>\n",
       "      <th>1</th>\n",
       "      <td>Baby Potato</td>\n",
       "      <td>197</td>\n",
       "    </tr>\n",
       "    <tr>\n",
       "      <th>2</th>\n",
       "      <td>CauliFlower</td>\n",
       "      <td>1580</td>\n",
       "    </tr>\n",
       "    <tr>\n",
       "      <th>3</th>\n",
       "      <td>Ginger</td>\n",
       "      <td>218</td>\n",
       "    </tr>\n",
       "    <tr>\n",
       "      <th>4</th>\n",
       "      <td>Green Chilli</td>\n",
       "      <td>204</td>\n",
       "    </tr>\n",
       "    <tr>\n",
       "      <th>5</th>\n",
       "      <td>Okra</td>\n",
       "      <td>333</td>\n",
       "    </tr>\n",
       "    <tr>\n",
       "      <th>6</th>\n",
       "      <td>Ooty Carrot</td>\n",
       "      <td>177</td>\n",
       "    </tr>\n",
       "    <tr>\n",
       "      <th>7</th>\n",
       "      <td>Potato</td>\n",
       "      <td>1491</td>\n",
       "    </tr>\n",
       "    <tr>\n",
       "      <th>8</th>\n",
       "      <td>Radish</td>\n",
       "      <td>142</td>\n",
       "    </tr>\n",
       "    <tr>\n",
       "      <th>9</th>\n",
       "      <td>Tomato</td>\n",
       "      <td>1549</td>\n",
       "    </tr>\n",
       "  </tbody>\n",
       "</table>\n",
       "</div>"
      ],
      "text/plain": [
       "        Classes  Count of Class\n",
       "1   Baby Potato             197\n",
       "2   CauliFlower            1580\n",
       "3        Ginger             218\n",
       "4  Green Chilli             204\n",
       "5          Okra             333\n",
       "6   Ooty Carrot             177\n",
       "7        Potato            1491\n",
       "8        Radish             142\n",
       "9        Tomato            1549"
      ]
     },
     "execution_count": 2,
     "metadata": {},
     "output_type": "execute_result"
    }
   ],
   "source": [
    "path=r'./NewDataset/Cleared'\n",
    "path=pathlib.Path(path)\n",
    "d1={}\n",
    "for i in path.glob('*'):\n",
    "    d1[str(i).split('\\\\')[-1]]=len(list(i.glob('*')))  \n",
    "df=pd.DataFrame(list(d1.items()),columns=['Classes','Count of Class'])\n",
    "df.index=Series(list(range(1,len(d1)+1)))\n",
    "df         "
   ]
  },
  {
   "cell_type": "code",
   "execution_count": 3,
   "metadata": {},
   "outputs": [
    {
     "data": {
      "application/vnd.plotly.v1+json": {
       "config": {
        "plotlyServerURL": "https://plot.ly"
       },
       "data": [
        {
         "alignmentgroup": "True",
         "hovertemplate": "Class=%{x}<br>No of images=%{y}<extra></extra>",
         "legendgroup": "",
         "marker": {
          "color": "#636efa",
          "pattern": {
           "shape": ""
          }
         },
         "name": "",
         "offsetgroup": "",
         "orientation": "v",
         "showlegend": false,
         "textposition": "auto",
         "type": "bar",
         "x": [
          "Baby Potato",
          "CauliFlower",
          "Ginger",
          "Green Chilli",
          "Okra",
          "Ooty Carrot",
          "Potato",
          "Radish",
          "Tomato"
         ],
         "xaxis": "x",
         "y": [
          197,
          1580,
          218,
          204,
          333,
          177,
          1491,
          142,
          1549
         ],
         "yaxis": "y"
        }
       ],
       "layout": {
        "barmode": "relative",
        "legend": {
         "tracegroupgap": 0
        },
        "template": {
         "data": {
          "bar": [
           {
            "error_x": {
             "color": "#2a3f5f"
            },
            "error_y": {
             "color": "#2a3f5f"
            },
            "marker": {
             "line": {
              "color": "#E5ECF6",
              "width": 0.5
             },
             "pattern": {
              "fillmode": "overlay",
              "size": 10,
              "solidity": 0.2
             }
            },
            "type": "bar"
           }
          ],
          "barpolar": [
           {
            "marker": {
             "line": {
              "color": "#E5ECF6",
              "width": 0.5
             },
             "pattern": {
              "fillmode": "overlay",
              "size": 10,
              "solidity": 0.2
             }
            },
            "type": "barpolar"
           }
          ],
          "carpet": [
           {
            "aaxis": {
             "endlinecolor": "#2a3f5f",
             "gridcolor": "white",
             "linecolor": "white",
             "minorgridcolor": "white",
             "startlinecolor": "#2a3f5f"
            },
            "baxis": {
             "endlinecolor": "#2a3f5f",
             "gridcolor": "white",
             "linecolor": "white",
             "minorgridcolor": "white",
             "startlinecolor": "#2a3f5f"
            },
            "type": "carpet"
           }
          ],
          "choropleth": [
           {
            "colorbar": {
             "outlinewidth": 0,
             "ticks": ""
            },
            "type": "choropleth"
           }
          ],
          "contour": [
           {
            "colorbar": {
             "outlinewidth": 0,
             "ticks": ""
            },
            "colorscale": [
             [
              0,
              "#0d0887"
             ],
             [
              0.1111111111111111,
              "#46039f"
             ],
             [
              0.2222222222222222,
              "#7201a8"
             ],
             [
              0.3333333333333333,
              "#9c179e"
             ],
             [
              0.4444444444444444,
              "#bd3786"
             ],
             [
              0.5555555555555556,
              "#d8576b"
             ],
             [
              0.6666666666666666,
              "#ed7953"
             ],
             [
              0.7777777777777778,
              "#fb9f3a"
             ],
             [
              0.8888888888888888,
              "#fdca26"
             ],
             [
              1,
              "#f0f921"
             ]
            ],
            "type": "contour"
           }
          ],
          "contourcarpet": [
           {
            "colorbar": {
             "outlinewidth": 0,
             "ticks": ""
            },
            "type": "contourcarpet"
           }
          ],
          "heatmap": [
           {
            "colorbar": {
             "outlinewidth": 0,
             "ticks": ""
            },
            "colorscale": [
             [
              0,
              "#0d0887"
             ],
             [
              0.1111111111111111,
              "#46039f"
             ],
             [
              0.2222222222222222,
              "#7201a8"
             ],
             [
              0.3333333333333333,
              "#9c179e"
             ],
             [
              0.4444444444444444,
              "#bd3786"
             ],
             [
              0.5555555555555556,
              "#d8576b"
             ],
             [
              0.6666666666666666,
              "#ed7953"
             ],
             [
              0.7777777777777778,
              "#fb9f3a"
             ],
             [
              0.8888888888888888,
              "#fdca26"
             ],
             [
              1,
              "#f0f921"
             ]
            ],
            "type": "heatmap"
           }
          ],
          "heatmapgl": [
           {
            "colorbar": {
             "outlinewidth": 0,
             "ticks": ""
            },
            "colorscale": [
             [
              0,
              "#0d0887"
             ],
             [
              0.1111111111111111,
              "#46039f"
             ],
             [
              0.2222222222222222,
              "#7201a8"
             ],
             [
              0.3333333333333333,
              "#9c179e"
             ],
             [
              0.4444444444444444,
              "#bd3786"
             ],
             [
              0.5555555555555556,
              "#d8576b"
             ],
             [
              0.6666666666666666,
              "#ed7953"
             ],
             [
              0.7777777777777778,
              "#fb9f3a"
             ],
             [
              0.8888888888888888,
              "#fdca26"
             ],
             [
              1,
              "#f0f921"
             ]
            ],
            "type": "heatmapgl"
           }
          ],
          "histogram": [
           {
            "marker": {
             "pattern": {
              "fillmode": "overlay",
              "size": 10,
              "solidity": 0.2
             }
            },
            "type": "histogram"
           }
          ],
          "histogram2d": [
           {
            "colorbar": {
             "outlinewidth": 0,
             "ticks": ""
            },
            "colorscale": [
             [
              0,
              "#0d0887"
             ],
             [
              0.1111111111111111,
              "#46039f"
             ],
             [
              0.2222222222222222,
              "#7201a8"
             ],
             [
              0.3333333333333333,
              "#9c179e"
             ],
             [
              0.4444444444444444,
              "#bd3786"
             ],
             [
              0.5555555555555556,
              "#d8576b"
             ],
             [
              0.6666666666666666,
              "#ed7953"
             ],
             [
              0.7777777777777778,
              "#fb9f3a"
             ],
             [
              0.8888888888888888,
              "#fdca26"
             ],
             [
              1,
              "#f0f921"
             ]
            ],
            "type": "histogram2d"
           }
          ],
          "histogram2dcontour": [
           {
            "colorbar": {
             "outlinewidth": 0,
             "ticks": ""
            },
            "colorscale": [
             [
              0,
              "#0d0887"
             ],
             [
              0.1111111111111111,
              "#46039f"
             ],
             [
              0.2222222222222222,
              "#7201a8"
             ],
             [
              0.3333333333333333,
              "#9c179e"
             ],
             [
              0.4444444444444444,
              "#bd3786"
             ],
             [
              0.5555555555555556,
              "#d8576b"
             ],
             [
              0.6666666666666666,
              "#ed7953"
             ],
             [
              0.7777777777777778,
              "#fb9f3a"
             ],
             [
              0.8888888888888888,
              "#fdca26"
             ],
             [
              1,
              "#f0f921"
             ]
            ],
            "type": "histogram2dcontour"
           }
          ],
          "mesh3d": [
           {
            "colorbar": {
             "outlinewidth": 0,
             "ticks": ""
            },
            "type": "mesh3d"
           }
          ],
          "parcoords": [
           {
            "line": {
             "colorbar": {
              "outlinewidth": 0,
              "ticks": ""
             }
            },
            "type": "parcoords"
           }
          ],
          "pie": [
           {
            "automargin": true,
            "type": "pie"
           }
          ],
          "scatter": [
           {
            "fillpattern": {
             "fillmode": "overlay",
             "size": 10,
             "solidity": 0.2
            },
            "type": "scatter"
           }
          ],
          "scatter3d": [
           {
            "line": {
             "colorbar": {
              "outlinewidth": 0,
              "ticks": ""
             }
            },
            "marker": {
             "colorbar": {
              "outlinewidth": 0,
              "ticks": ""
             }
            },
            "type": "scatter3d"
           }
          ],
          "scattercarpet": [
           {
            "marker": {
             "colorbar": {
              "outlinewidth": 0,
              "ticks": ""
             }
            },
            "type": "scattercarpet"
           }
          ],
          "scattergeo": [
           {
            "marker": {
             "colorbar": {
              "outlinewidth": 0,
              "ticks": ""
             }
            },
            "type": "scattergeo"
           }
          ],
          "scattergl": [
           {
            "marker": {
             "colorbar": {
              "outlinewidth": 0,
              "ticks": ""
             }
            },
            "type": "scattergl"
           }
          ],
          "scattermapbox": [
           {
            "marker": {
             "colorbar": {
              "outlinewidth": 0,
              "ticks": ""
             }
            },
            "type": "scattermapbox"
           }
          ],
          "scatterpolar": [
           {
            "marker": {
             "colorbar": {
              "outlinewidth": 0,
              "ticks": ""
             }
            },
            "type": "scatterpolar"
           }
          ],
          "scatterpolargl": [
           {
            "marker": {
             "colorbar": {
              "outlinewidth": 0,
              "ticks": ""
             }
            },
            "type": "scatterpolargl"
           }
          ],
          "scatterternary": [
           {
            "marker": {
             "colorbar": {
              "outlinewidth": 0,
              "ticks": ""
             }
            },
            "type": "scatterternary"
           }
          ],
          "surface": [
           {
            "colorbar": {
             "outlinewidth": 0,
             "ticks": ""
            },
            "colorscale": [
             [
              0,
              "#0d0887"
             ],
             [
              0.1111111111111111,
              "#46039f"
             ],
             [
              0.2222222222222222,
              "#7201a8"
             ],
             [
              0.3333333333333333,
              "#9c179e"
             ],
             [
              0.4444444444444444,
              "#bd3786"
             ],
             [
              0.5555555555555556,
              "#d8576b"
             ],
             [
              0.6666666666666666,
              "#ed7953"
             ],
             [
              0.7777777777777778,
              "#fb9f3a"
             ],
             [
              0.8888888888888888,
              "#fdca26"
             ],
             [
              1,
              "#f0f921"
             ]
            ],
            "type": "surface"
           }
          ],
          "table": [
           {
            "cells": {
             "fill": {
              "color": "#EBF0F8"
             },
             "line": {
              "color": "white"
             }
            },
            "header": {
             "fill": {
              "color": "#C8D4E3"
             },
             "line": {
              "color": "white"
             }
            },
            "type": "table"
           }
          ]
         },
         "layout": {
          "annotationdefaults": {
           "arrowcolor": "#2a3f5f",
           "arrowhead": 0,
           "arrowwidth": 1
          },
          "autotypenumbers": "strict",
          "coloraxis": {
           "colorbar": {
            "outlinewidth": 0,
            "ticks": ""
           }
          },
          "colorscale": {
           "diverging": [
            [
             0,
             "#8e0152"
            ],
            [
             0.1,
             "#c51b7d"
            ],
            [
             0.2,
             "#de77ae"
            ],
            [
             0.3,
             "#f1b6da"
            ],
            [
             0.4,
             "#fde0ef"
            ],
            [
             0.5,
             "#f7f7f7"
            ],
            [
             0.6,
             "#e6f5d0"
            ],
            [
             0.7,
             "#b8e186"
            ],
            [
             0.8,
             "#7fbc41"
            ],
            [
             0.9,
             "#4d9221"
            ],
            [
             1,
             "#276419"
            ]
           ],
           "sequential": [
            [
             0,
             "#0d0887"
            ],
            [
             0.1111111111111111,
             "#46039f"
            ],
            [
             0.2222222222222222,
             "#7201a8"
            ],
            [
             0.3333333333333333,
             "#9c179e"
            ],
            [
             0.4444444444444444,
             "#bd3786"
            ],
            [
             0.5555555555555556,
             "#d8576b"
            ],
            [
             0.6666666666666666,
             "#ed7953"
            ],
            [
             0.7777777777777778,
             "#fb9f3a"
            ],
            [
             0.8888888888888888,
             "#fdca26"
            ],
            [
             1,
             "#f0f921"
            ]
           ],
           "sequentialminus": [
            [
             0,
             "#0d0887"
            ],
            [
             0.1111111111111111,
             "#46039f"
            ],
            [
             0.2222222222222222,
             "#7201a8"
            ],
            [
             0.3333333333333333,
             "#9c179e"
            ],
            [
             0.4444444444444444,
             "#bd3786"
            ],
            [
             0.5555555555555556,
             "#d8576b"
            ],
            [
             0.6666666666666666,
             "#ed7953"
            ],
            [
             0.7777777777777778,
             "#fb9f3a"
            ],
            [
             0.8888888888888888,
             "#fdca26"
            ],
            [
             1,
             "#f0f921"
            ]
           ]
          },
          "colorway": [
           "#636efa",
           "#EF553B",
           "#00cc96",
           "#ab63fa",
           "#FFA15A",
           "#19d3f3",
           "#FF6692",
           "#B6E880",
           "#FF97FF",
           "#FECB52"
          ],
          "font": {
           "color": "#2a3f5f"
          },
          "geo": {
           "bgcolor": "white",
           "lakecolor": "white",
           "landcolor": "#E5ECF6",
           "showlakes": true,
           "showland": true,
           "subunitcolor": "white"
          },
          "hoverlabel": {
           "align": "left"
          },
          "hovermode": "closest",
          "mapbox": {
           "style": "light"
          },
          "paper_bgcolor": "white",
          "plot_bgcolor": "#E5ECF6",
          "polar": {
           "angularaxis": {
            "gridcolor": "white",
            "linecolor": "white",
            "ticks": ""
           },
           "bgcolor": "#E5ECF6",
           "radialaxis": {
            "gridcolor": "white",
            "linecolor": "white",
            "ticks": ""
           }
          },
          "scene": {
           "xaxis": {
            "backgroundcolor": "#E5ECF6",
            "gridcolor": "white",
            "gridwidth": 2,
            "linecolor": "white",
            "showbackground": true,
            "ticks": "",
            "zerolinecolor": "white"
           },
           "yaxis": {
            "backgroundcolor": "#E5ECF6",
            "gridcolor": "white",
            "gridwidth": 2,
            "linecolor": "white",
            "showbackground": true,
            "ticks": "",
            "zerolinecolor": "white"
           },
           "zaxis": {
            "backgroundcolor": "#E5ECF6",
            "gridcolor": "white",
            "gridwidth": 2,
            "linecolor": "white",
            "showbackground": true,
            "ticks": "",
            "zerolinecolor": "white"
           }
          },
          "shapedefaults": {
           "line": {
            "color": "#2a3f5f"
           }
          },
          "ternary": {
           "aaxis": {
            "gridcolor": "white",
            "linecolor": "white",
            "ticks": ""
           },
           "baxis": {
            "gridcolor": "white",
            "linecolor": "white",
            "ticks": ""
           },
           "bgcolor": "#E5ECF6",
           "caxis": {
            "gridcolor": "white",
            "linecolor": "white",
            "ticks": ""
           }
          },
          "title": {
           "x": 0.05
          },
          "xaxis": {
           "automargin": true,
           "gridcolor": "white",
           "linecolor": "white",
           "ticks": "",
           "title": {
            "standoff": 15
           },
           "zerolinecolor": "white",
           "zerolinewidth": 2
          },
          "yaxis": {
           "automargin": true,
           "gridcolor": "white",
           "linecolor": "white",
           "ticks": "",
           "title": {
            "standoff": 15
           },
           "zerolinecolor": "white",
           "zerolinewidth": 2
          }
         }
        },
        "title": {
         "text": "Images per class before augumentation"
        },
        "xaxis": {
         "anchor": "y",
         "domain": [
          0,
          1
         ],
         "title": {
          "text": "Class"
         }
        },
        "yaxis": {
         "anchor": "x",
         "domain": [
          0,
          1
         ],
         "title": {
          "text": "No of images"
         }
        }
       }
      }
     },
     "metadata": {},
     "output_type": "display_data"
    }
   ],
   "source": [
    "px.bar(x=d1.keys(),y=d1.values(),title=\"Images per class before augumentation\",labels=dict(x=\"Class\", y=\"No of images\"))"
   ]
  },
  {
   "cell_type": "code",
   "execution_count": 4,
   "metadata": {},
   "outputs": [],
   "source": [
    "desired_images_per_class_total=3500\n",
    "desired_images_per_class_train=3000\n",
    "desired_images_per_class_test=500\n"
   ]
  },
  {
   "cell_type": "code",
   "execution_count": 5,
   "metadata": {},
   "outputs": [],
   "source": [
    "path_old_images=r'./NewDataset/Cleared'\n",
    "path_new_images=r'./NewDataset/Augumented'\n",
    "if not(os.path.isdir(path_new_images)):\n",
    "    os.makedirs(path_new_images)\n"
   ]
  },
  {
   "cell_type": "code",
   "execution_count": 6,
   "metadata": {},
   "outputs": [
    {
     "name": "stderr",
     "output_type": "stream",
     "text": [
      "C:\\Users\\Vijay Murugan A S\\AppData\\Local\\Temp\\ipykernel_24048\\1344360073.py:13: DeprecationWarning:\n",
      "\n",
      "Starting with ImageIO v3 the behavior of this function will switch to that of iio.v3.imread. To keep the current behavior (and make this warning disappear) use `import imageio.v2 as imageio` or call `imageio.v2.imread` directly.\n",
      "\n"
     ]
    },
    {
     "name": "stdout",
     "output_type": "stream",
     "text": [
      "{'Baby Potato': 192, 'CauliFlower': 1577, 'Ginger': 217, 'Green Chilli': 194, 'Okra': 333, 'Ooty Carrot': 172, 'Potato': 1489, 'Radish': 142, 'Tomato': 1547}\n"
     ]
    }
   ],
   "source": [
    "images_openable_per_class={}\n",
    "all_images_loaded={}\n",
    "path=path_old_images\n",
    "path=pathlib.Path(path)\n",
    "for i in path.glob('*'):\n",
    "    counter=0\n",
    "    class_name=str(i).split('\\\\')[-1]        \n",
    "    images_of_class={}\n",
    "    for j in i.glob('*'):\n",
    "        try:\n",
    "            image_path=str(j)\n",
    "            image_name=image_path.split('\\\\')[-1]\n",
    "            input_img = imageio.imread(image_path)\n",
    "            images_of_class[image_name]=input_img\n",
    "            counter+=1\n",
    "        except Exception as e:\n",
    "            fp=open('error_log.txt','a+')\n",
    "            stri='Error '+str(e)+'\\n'\n",
    "            fp.write(stri)\n",
    "            fp.close()\n",
    "    images_openable_per_class[class_name]=counter\n",
    "    all_images_loaded[class_name]=images_of_class\n",
    "print(images_openable_per_class)\n",
    "    \n",
    "        "
   ]
  },
  {
   "cell_type": "markdown",
   "metadata": {},
   "source": [
    "Images openable to augument"
   ]
  },
  {
   "cell_type": "code",
   "execution_count": 7,
   "metadata": {},
   "outputs": [
    {
     "data": {
      "application/vnd.plotly.v1+json": {
       "config": {
        "plotlyServerURL": "https://plot.ly"
       },
       "data": [
        {
         "alignmentgroup": "True",
         "hovertemplate": "Class Name=%{x}<br>No of images=%{y}<extra></extra>",
         "legendgroup": "",
         "marker": {
          "color": "#636efa",
          "pattern": {
           "shape": ""
          }
         },
         "name": "",
         "offsetgroup": "",
         "orientation": "v",
         "showlegend": false,
         "textposition": "auto",
         "type": "bar",
         "x": [
          "Baby Potato",
          "CauliFlower",
          "Ginger",
          "Green Chilli",
          "Okra",
          "Ooty Carrot",
          "Potato",
          "Radish",
          "Tomato"
         ],
         "xaxis": "x",
         "y": [
          192,
          1577,
          217,
          194,
          333,
          172,
          1489,
          142,
          1547
         ],
         "yaxis": "y"
        }
       ],
       "layout": {
        "barmode": "relative",
        "legend": {
         "tracegroupgap": 0
        },
        "template": {
         "data": {
          "bar": [
           {
            "error_x": {
             "color": "#2a3f5f"
            },
            "error_y": {
             "color": "#2a3f5f"
            },
            "marker": {
             "line": {
              "color": "#E5ECF6",
              "width": 0.5
             },
             "pattern": {
              "fillmode": "overlay",
              "size": 10,
              "solidity": 0.2
             }
            },
            "type": "bar"
           }
          ],
          "barpolar": [
           {
            "marker": {
             "line": {
              "color": "#E5ECF6",
              "width": 0.5
             },
             "pattern": {
              "fillmode": "overlay",
              "size": 10,
              "solidity": 0.2
             }
            },
            "type": "barpolar"
           }
          ],
          "carpet": [
           {
            "aaxis": {
             "endlinecolor": "#2a3f5f",
             "gridcolor": "white",
             "linecolor": "white",
             "minorgridcolor": "white",
             "startlinecolor": "#2a3f5f"
            },
            "baxis": {
             "endlinecolor": "#2a3f5f",
             "gridcolor": "white",
             "linecolor": "white",
             "minorgridcolor": "white",
             "startlinecolor": "#2a3f5f"
            },
            "type": "carpet"
           }
          ],
          "choropleth": [
           {
            "colorbar": {
             "outlinewidth": 0,
             "ticks": ""
            },
            "type": "choropleth"
           }
          ],
          "contour": [
           {
            "colorbar": {
             "outlinewidth": 0,
             "ticks": ""
            },
            "colorscale": [
             [
              0,
              "#0d0887"
             ],
             [
              0.1111111111111111,
              "#46039f"
             ],
             [
              0.2222222222222222,
              "#7201a8"
             ],
             [
              0.3333333333333333,
              "#9c179e"
             ],
             [
              0.4444444444444444,
              "#bd3786"
             ],
             [
              0.5555555555555556,
              "#d8576b"
             ],
             [
              0.6666666666666666,
              "#ed7953"
             ],
             [
              0.7777777777777778,
              "#fb9f3a"
             ],
             [
              0.8888888888888888,
              "#fdca26"
             ],
             [
              1,
              "#f0f921"
             ]
            ],
            "type": "contour"
           }
          ],
          "contourcarpet": [
           {
            "colorbar": {
             "outlinewidth": 0,
             "ticks": ""
            },
            "type": "contourcarpet"
           }
          ],
          "heatmap": [
           {
            "colorbar": {
             "outlinewidth": 0,
             "ticks": ""
            },
            "colorscale": [
             [
              0,
              "#0d0887"
             ],
             [
              0.1111111111111111,
              "#46039f"
             ],
             [
              0.2222222222222222,
              "#7201a8"
             ],
             [
              0.3333333333333333,
              "#9c179e"
             ],
             [
              0.4444444444444444,
              "#bd3786"
             ],
             [
              0.5555555555555556,
              "#d8576b"
             ],
             [
              0.6666666666666666,
              "#ed7953"
             ],
             [
              0.7777777777777778,
              "#fb9f3a"
             ],
             [
              0.8888888888888888,
              "#fdca26"
             ],
             [
              1,
              "#f0f921"
             ]
            ],
            "type": "heatmap"
           }
          ],
          "heatmapgl": [
           {
            "colorbar": {
             "outlinewidth": 0,
             "ticks": ""
            },
            "colorscale": [
             [
              0,
              "#0d0887"
             ],
             [
              0.1111111111111111,
              "#46039f"
             ],
             [
              0.2222222222222222,
              "#7201a8"
             ],
             [
              0.3333333333333333,
              "#9c179e"
             ],
             [
              0.4444444444444444,
              "#bd3786"
             ],
             [
              0.5555555555555556,
              "#d8576b"
             ],
             [
              0.6666666666666666,
              "#ed7953"
             ],
             [
              0.7777777777777778,
              "#fb9f3a"
             ],
             [
              0.8888888888888888,
              "#fdca26"
             ],
             [
              1,
              "#f0f921"
             ]
            ],
            "type": "heatmapgl"
           }
          ],
          "histogram": [
           {
            "marker": {
             "pattern": {
              "fillmode": "overlay",
              "size": 10,
              "solidity": 0.2
             }
            },
            "type": "histogram"
           }
          ],
          "histogram2d": [
           {
            "colorbar": {
             "outlinewidth": 0,
             "ticks": ""
            },
            "colorscale": [
             [
              0,
              "#0d0887"
             ],
             [
              0.1111111111111111,
              "#46039f"
             ],
             [
              0.2222222222222222,
              "#7201a8"
             ],
             [
              0.3333333333333333,
              "#9c179e"
             ],
             [
              0.4444444444444444,
              "#bd3786"
             ],
             [
              0.5555555555555556,
              "#d8576b"
             ],
             [
              0.6666666666666666,
              "#ed7953"
             ],
             [
              0.7777777777777778,
              "#fb9f3a"
             ],
             [
              0.8888888888888888,
              "#fdca26"
             ],
             [
              1,
              "#f0f921"
             ]
            ],
            "type": "histogram2d"
           }
          ],
          "histogram2dcontour": [
           {
            "colorbar": {
             "outlinewidth": 0,
             "ticks": ""
            },
            "colorscale": [
             [
              0,
              "#0d0887"
             ],
             [
              0.1111111111111111,
              "#46039f"
             ],
             [
              0.2222222222222222,
              "#7201a8"
             ],
             [
              0.3333333333333333,
              "#9c179e"
             ],
             [
              0.4444444444444444,
              "#bd3786"
             ],
             [
              0.5555555555555556,
              "#d8576b"
             ],
             [
              0.6666666666666666,
              "#ed7953"
             ],
             [
              0.7777777777777778,
              "#fb9f3a"
             ],
             [
              0.8888888888888888,
              "#fdca26"
             ],
             [
              1,
              "#f0f921"
             ]
            ],
            "type": "histogram2dcontour"
           }
          ],
          "mesh3d": [
           {
            "colorbar": {
             "outlinewidth": 0,
             "ticks": ""
            },
            "type": "mesh3d"
           }
          ],
          "parcoords": [
           {
            "line": {
             "colorbar": {
              "outlinewidth": 0,
              "ticks": ""
             }
            },
            "type": "parcoords"
           }
          ],
          "pie": [
           {
            "automargin": true,
            "type": "pie"
           }
          ],
          "scatter": [
           {
            "fillpattern": {
             "fillmode": "overlay",
             "size": 10,
             "solidity": 0.2
            },
            "type": "scatter"
           }
          ],
          "scatter3d": [
           {
            "line": {
             "colorbar": {
              "outlinewidth": 0,
              "ticks": ""
             }
            },
            "marker": {
             "colorbar": {
              "outlinewidth": 0,
              "ticks": ""
             }
            },
            "type": "scatter3d"
           }
          ],
          "scattercarpet": [
           {
            "marker": {
             "colorbar": {
              "outlinewidth": 0,
              "ticks": ""
             }
            },
            "type": "scattercarpet"
           }
          ],
          "scattergeo": [
           {
            "marker": {
             "colorbar": {
              "outlinewidth": 0,
              "ticks": ""
             }
            },
            "type": "scattergeo"
           }
          ],
          "scattergl": [
           {
            "marker": {
             "colorbar": {
              "outlinewidth": 0,
              "ticks": ""
             }
            },
            "type": "scattergl"
           }
          ],
          "scattermapbox": [
           {
            "marker": {
             "colorbar": {
              "outlinewidth": 0,
              "ticks": ""
             }
            },
            "type": "scattermapbox"
           }
          ],
          "scatterpolar": [
           {
            "marker": {
             "colorbar": {
              "outlinewidth": 0,
              "ticks": ""
             }
            },
            "type": "scatterpolar"
           }
          ],
          "scatterpolargl": [
           {
            "marker": {
             "colorbar": {
              "outlinewidth": 0,
              "ticks": ""
             }
            },
            "type": "scatterpolargl"
           }
          ],
          "scatterternary": [
           {
            "marker": {
             "colorbar": {
              "outlinewidth": 0,
              "ticks": ""
             }
            },
            "type": "scatterternary"
           }
          ],
          "surface": [
           {
            "colorbar": {
             "outlinewidth": 0,
             "ticks": ""
            },
            "colorscale": [
             [
              0,
              "#0d0887"
             ],
             [
              0.1111111111111111,
              "#46039f"
             ],
             [
              0.2222222222222222,
              "#7201a8"
             ],
             [
              0.3333333333333333,
              "#9c179e"
             ],
             [
              0.4444444444444444,
              "#bd3786"
             ],
             [
              0.5555555555555556,
              "#d8576b"
             ],
             [
              0.6666666666666666,
              "#ed7953"
             ],
             [
              0.7777777777777778,
              "#fb9f3a"
             ],
             [
              0.8888888888888888,
              "#fdca26"
             ],
             [
              1,
              "#f0f921"
             ]
            ],
            "type": "surface"
           }
          ],
          "table": [
           {
            "cells": {
             "fill": {
              "color": "#EBF0F8"
             },
             "line": {
              "color": "white"
             }
            },
            "header": {
             "fill": {
              "color": "#C8D4E3"
             },
             "line": {
              "color": "white"
             }
            },
            "type": "table"
           }
          ]
         },
         "layout": {
          "annotationdefaults": {
           "arrowcolor": "#2a3f5f",
           "arrowhead": 0,
           "arrowwidth": 1
          },
          "autotypenumbers": "strict",
          "coloraxis": {
           "colorbar": {
            "outlinewidth": 0,
            "ticks": ""
           }
          },
          "colorscale": {
           "diverging": [
            [
             0,
             "#8e0152"
            ],
            [
             0.1,
             "#c51b7d"
            ],
            [
             0.2,
             "#de77ae"
            ],
            [
             0.3,
             "#f1b6da"
            ],
            [
             0.4,
             "#fde0ef"
            ],
            [
             0.5,
             "#f7f7f7"
            ],
            [
             0.6,
             "#e6f5d0"
            ],
            [
             0.7,
             "#b8e186"
            ],
            [
             0.8,
             "#7fbc41"
            ],
            [
             0.9,
             "#4d9221"
            ],
            [
             1,
             "#276419"
            ]
           ],
           "sequential": [
            [
             0,
             "#0d0887"
            ],
            [
             0.1111111111111111,
             "#46039f"
            ],
            [
             0.2222222222222222,
             "#7201a8"
            ],
            [
             0.3333333333333333,
             "#9c179e"
            ],
            [
             0.4444444444444444,
             "#bd3786"
            ],
            [
             0.5555555555555556,
             "#d8576b"
            ],
            [
             0.6666666666666666,
             "#ed7953"
            ],
            [
             0.7777777777777778,
             "#fb9f3a"
            ],
            [
             0.8888888888888888,
             "#fdca26"
            ],
            [
             1,
             "#f0f921"
            ]
           ],
           "sequentialminus": [
            [
             0,
             "#0d0887"
            ],
            [
             0.1111111111111111,
             "#46039f"
            ],
            [
             0.2222222222222222,
             "#7201a8"
            ],
            [
             0.3333333333333333,
             "#9c179e"
            ],
            [
             0.4444444444444444,
             "#bd3786"
            ],
            [
             0.5555555555555556,
             "#d8576b"
            ],
            [
             0.6666666666666666,
             "#ed7953"
            ],
            [
             0.7777777777777778,
             "#fb9f3a"
            ],
            [
             0.8888888888888888,
             "#fdca26"
            ],
            [
             1,
             "#f0f921"
            ]
           ]
          },
          "colorway": [
           "#636efa",
           "#EF553B",
           "#00cc96",
           "#ab63fa",
           "#FFA15A",
           "#19d3f3",
           "#FF6692",
           "#B6E880",
           "#FF97FF",
           "#FECB52"
          ],
          "font": {
           "color": "#2a3f5f"
          },
          "geo": {
           "bgcolor": "white",
           "lakecolor": "white",
           "landcolor": "#E5ECF6",
           "showlakes": true,
           "showland": true,
           "subunitcolor": "white"
          },
          "hoverlabel": {
           "align": "left"
          },
          "hovermode": "closest",
          "mapbox": {
           "style": "light"
          },
          "paper_bgcolor": "white",
          "plot_bgcolor": "#E5ECF6",
          "polar": {
           "angularaxis": {
            "gridcolor": "white",
            "linecolor": "white",
            "ticks": ""
           },
           "bgcolor": "#E5ECF6",
           "radialaxis": {
            "gridcolor": "white",
            "linecolor": "white",
            "ticks": ""
           }
          },
          "scene": {
           "xaxis": {
            "backgroundcolor": "#E5ECF6",
            "gridcolor": "white",
            "gridwidth": 2,
            "linecolor": "white",
            "showbackground": true,
            "ticks": "",
            "zerolinecolor": "white"
           },
           "yaxis": {
            "backgroundcolor": "#E5ECF6",
            "gridcolor": "white",
            "gridwidth": 2,
            "linecolor": "white",
            "showbackground": true,
            "ticks": "",
            "zerolinecolor": "white"
           },
           "zaxis": {
            "backgroundcolor": "#E5ECF6",
            "gridcolor": "white",
            "gridwidth": 2,
            "linecolor": "white",
            "showbackground": true,
            "ticks": "",
            "zerolinecolor": "white"
           }
          },
          "shapedefaults": {
           "line": {
            "color": "#2a3f5f"
           }
          },
          "ternary": {
           "aaxis": {
            "gridcolor": "white",
            "linecolor": "white",
            "ticks": ""
           },
           "baxis": {
            "gridcolor": "white",
            "linecolor": "white",
            "ticks": ""
           },
           "bgcolor": "#E5ECF6",
           "caxis": {
            "gridcolor": "white",
            "linecolor": "white",
            "ticks": ""
           }
          },
          "title": {
           "x": 0.05
          },
          "xaxis": {
           "automargin": true,
           "gridcolor": "white",
           "linecolor": "white",
           "ticks": "",
           "title": {
            "standoff": 15
           },
           "zerolinecolor": "white",
           "zerolinewidth": 2
          },
          "yaxis": {
           "automargin": true,
           "gridcolor": "white",
           "linecolor": "white",
           "ticks": "",
           "title": {
            "standoff": 15
           },
           "zerolinecolor": "white",
           "zerolinewidth": 2
          }
         }
        },
        "title": {
         "text": "Openable Images per class"
        },
        "xaxis": {
         "anchor": "y",
         "domain": [
          0,
          1
         ],
         "title": {
          "text": "Class Name"
         }
        },
        "yaxis": {
         "anchor": "x",
         "domain": [
          0,
          1
         ],
         "title": {
          "text": "No of images"
         }
        }
       }
      }
     },
     "metadata": {},
     "output_type": "display_data"
    }
   ],
   "source": [
    "px.bar(x=list(images_openable_per_class.keys()),y=list(images_openable_per_class.values()),title='Openable Images per class',labels={'x':'Class Name','y':'No of images'})"
   ]
  },
  {
   "cell_type": "code",
   "execution_count": 8,
   "metadata": {},
   "outputs": [
    {
     "data": {
      "text/plain": [
       "'Baby Potato'"
      ]
     },
     "execution_count": 8,
     "metadata": {},
     "output_type": "execute_result"
    }
   ],
   "source": [
    "list(all_images_loaded.keys())[0]"
   ]
  },
  {
   "cell_type": "code",
   "execution_count": 9,
   "metadata": {},
   "outputs": [],
   "source": [
    "# for i in [list(all_images_loaded.keys())[0]]:\n",
    "#     # print(i)\n",
    "#     train_images_present=images_openable_per_class[i]\n",
    "#     test_images_present=0\n",
    "#     test_image_path=path_new_images+'\\\\'+'test\\\\'+i\n",
    "#     train_image_path=path_new_images+'\\\\'+'train\\\\'+i\n",
    "#     take_image=0\n",
    "#     if not(os.path.isdir(test_image_path)):\n",
    "#         os.makedirs(test_image_path)\n",
    "#     if not(os.path.isdir(train_image_path)):\n",
    "#         os.makedirs(train_image_path)"
   ]
  },
  {
   "cell_type": "code",
   "execution_count": 9,
   "metadata": {},
   "outputs": [],
   "source": [
    "for i in list(all_images_loaded.keys()):\n",
    "    train_images_present=images_openable_per_class[i]\n",
    "    test_images_present=0\n",
    "    test_image_path=path_new_images+'\\\\'+'test\\\\'+i\n",
    "    train_image_path=path_new_images+'\\\\'+'train\\\\'+i\n",
    "    take_image=0\n",
    "    if not(os.path.isdir(test_image_path)):\n",
    "        os.makedirs(test_image_path)\n",
    "    if not(os.path.isdir(train_image_path)):\n",
    "        os.makedirs(train_image_path)\n",
    "    image_names_of_class=list(all_images_loaded[i].keys())\n",
    "    for j in image_names_of_class:\n",
    "        img_name=train_image_path+'\\\\'+j\n",
    "        input_img = all_images_loaded[i][j]\n",
    "        im.fromarray(input_img).convert('RGB').save(img_name)\n",
    "    while(train_images_present<=desired_images_per_class_train):\n",
    "        #Horizontal Flip every image present\n",
    "        while(train_images_present<=desired_images_per_class_train and take_image<len(image_names_of_class)):\n",
    "            input_img = all_images_loaded[i][image_names_of_class[take_image]]\n",
    "            img_name=train_image_path+'\\\\'+'horflip'+image_names_of_class[take_image]\n",
    "            hflip= iaa.Fliplr(p=1.0)               \n",
    "            input_hf= hflip.augment_image(input_img)\n",
    "            im.fromarray(input_hf).convert('RGB').save(img_name)\n",
    "            take_image+=1\n",
    "            train_images_present+=1\n",
    "        if(train_images_present>desired_images_per_class_train):\n",
    "            break\n",
    "        take_image=0\n",
    "\n",
    "        while(train_images_present<=desired_images_per_class_train and take_image<len(image_names_of_class)):\n",
    "            input_img = all_images_loaded[i][image_names_of_class[take_image]]\n",
    "            img_name=train_image_path+'\\\\'+'vflip'+image_names_of_class[take_image]\n",
    "            vflip= iaa.Flipud(p=1.0) \n",
    "            input_vf= vflip.augment_image(input_img)\n",
    "            im.fromarray(input_vf).convert('RGB').save(img_name)\n",
    "            take_image+=1\n",
    "            train_images_present+=1\n",
    "        if(train_images_present>desired_images_per_class_train):\n",
    "            break\n",
    "        take_image=0\n",
    "\n",
    "        while(train_images_present<=desired_images_per_class_train and take_image<len(image_names_of_class)):\n",
    "            input_img = all_images_loaded[i][image_names_of_class[take_image]]\n",
    "            img_name=train_image_path+'\\\\'+'rot_1'+image_names_of_class[take_image]\n",
    "            rot1 = iaa.Affine(rotate=(-50,20))\n",
    "            input_rot1 = rot1.augment_image(input_img)\n",
    "            im.fromarray(input_rot1).convert('RGB').save(img_name)\n",
    "            take_image+=1\n",
    "            train_images_present+=1\n",
    "        if(train_images_present>desired_images_per_class_train):\n",
    "            break\n",
    "        take_image=0\n",
    "\n",
    "        while(train_images_present<=desired_images_per_class_train and take_image<len(image_names_of_class)):\n",
    "            input_img = all_images_loaded[i][image_names_of_class[take_image]]\n",
    "            img_name=train_image_path+'\\\\'+'crop_1'+image_names_of_class[take_image]\n",
    "            crop1 = iaa.Crop(percent=(0, 0.2)) \n",
    "            input_crop1 = crop1.augment_image(input_img)\n",
    "            im.fromarray(input_crop1).convert('RGB').save(img_name)\n",
    "            take_image+=1\n",
    "            train_images_present+=1\n",
    "        if(train_images_present>desired_images_per_class_train):\n",
    "            break\n",
    "        take_image=0\n",
    "\n",
    "        while(train_images_present<=desired_images_per_class_train and take_image<len(image_names_of_class)):\n",
    "            input_img = all_images_loaded[i][image_names_of_class[take_image]]\n",
    "            img_name=train_image_path+'\\\\'+'noise_1'+image_names_of_class[take_image]\n",
    "            noise=iaa.AdditiveGaussianNoise(10,40)\n",
    "            input_noise=noise.augment_image(input_img)\n",
    "            im.fromarray(input_noise).convert('RGB').save(img_name)\n",
    "            take_image+=1\n",
    "            train_images_present+=1\n",
    "        if(train_images_present>desired_images_per_class_train):\n",
    "            break\n",
    "        take_image=0\n",
    "\n",
    "        while(train_images_present<=desired_images_per_class_train and take_image<len(image_names_of_class)):\n",
    "            input_img = all_images_loaded[i][image_names_of_class[take_image]]\n",
    "            img_name=train_image_path+'\\\\'+'shear_1'+image_names_of_class[take_image]\n",
    "            shear = iaa.Affine(shear=(-40,40))\n",
    "            input_shear=shear.augment_image(input_img)\n",
    "            im.fromarray(input_shear).convert('RGB').save(img_name)\n",
    "            take_image+=1\n",
    "            train_images_present+=1\n",
    "        if(train_images_present>desired_images_per_class_train):\n",
    "            break\n",
    "        take_image=0\n",
    "\n",
    "        while(train_images_present<=desired_images_per_class_train and take_image<len(image_names_of_class)):\n",
    "            input_img = all_images_loaded[i][image_names_of_class[take_image]]\n",
    "            img_name=train_image_path+'\\\\'+'rot_2'+image_names_of_class[take_image]\n",
    "            rot1 = iaa.Affine(rotate=(-70,10))\n",
    "            input_rot1 = rot1.augment_image(input_img)\n",
    "            im.fromarray(input_rot1).convert('RGB').save(img_name)\n",
    "            take_image+=1\n",
    "            train_images_present+=1\n",
    "        if(train_images_present>desired_images_per_class_train):\n",
    "            break\n",
    "        take_image=0\n",
    "\n",
    "        while(train_images_present<=desired_images_per_class_train and take_image<len(image_names_of_class)):\n",
    "            input_img = all_images_loaded[i][image_names_of_class[take_image]]\n",
    "            img_name=train_image_path+'\\\\'+'crop_2'+image_names_of_class[take_image]\n",
    "            crop1 = iaa.Crop(percent=(0.2, 0)) \n",
    "            input_crop1 = crop1.augment_image(input_img)\n",
    "            im.fromarray(input_crop1).convert('RGB').save(img_name)\n",
    "            take_image+=1\n",
    "            train_images_present+=1\n",
    "        if(train_images_present>desired_images_per_class_train):\n",
    "            break\n",
    "        take_image=0\n",
    "\n",
    "        while(train_images_present<=desired_images_per_class_train and take_image<len(image_names_of_class)):\n",
    "            input_img = all_images_loaded[i][image_names_of_class[take_image]]\n",
    "            img_name=train_image_path+'\\\\'+'noise_2'+image_names_of_class[take_image]\n",
    "            noise=iaa.AdditiveGaussianNoise(35,10)\n",
    "            input_noise=noise.augment_image(input_img)\n",
    "            im.fromarray(input_noise).convert('RGB').save(img_name)\n",
    "            take_image+=1\n",
    "            train_images_present+=1\n",
    "        if(train_images_present>desired_images_per_class_train):\n",
    "            break\n",
    "        take_image=0\n",
    "\n",
    "        while(train_images_present<=desired_images_per_class_train and take_image<len(image_names_of_class)):\n",
    "            input_img = all_images_loaded[i][image_names_of_class[take_image]]\n",
    "            img_name=train_image_path+'\\\\'+'shear_2'+image_names_of_class[take_image]\n",
    "            shear = iaa.Affine(shear=(40,-40))\n",
    "            input_shear=shear.augment_image(input_img)\n",
    "            im.fromarray(input_shear).convert('RGB').save(img_name)\n",
    "            take_image+=1\n",
    "            train_images_present+=1\n",
    "        if(train_images_present>desired_images_per_class_train):\n",
    "            break\n",
    "        take_image=0\n",
    "\n",
    "        while(train_images_present<=desired_images_per_class_train and take_image<len(image_names_of_class)):\n",
    "            input_img = all_images_loaded[i][image_names_of_class[take_image]]\n",
    "            img_name=train_image_path+'\\\\'+'rot_3'+image_names_of_class[take_image]\n",
    "            rot1 = iaa.Affine(rotate=(20,40))\n",
    "            input_rot1 = rot1.augment_image(input_img)\n",
    "            im.fromarray(input_rot1).convert('RGB').save(img_name)\n",
    "            take_image+=1\n",
    "            train_images_present+=1\n",
    "        if(train_images_present>desired_images_per_class_train):\n",
    "            break\n",
    "        take_image=0\n",
    "\n",
    "        while(train_images_present<=desired_images_per_class_train and take_image<len(image_names_of_class)):\n",
    "            input_img = all_images_loaded[i][image_names_of_class[take_image]]\n",
    "            img_name=train_image_path+'\\\\'+'crop_3'+image_names_of_class[take_image]\n",
    "            crop1 = iaa.Crop(percent=(0.3, 0.4)) \n",
    "            input_crop1 = crop1.augment_image(input_img)\n",
    "            im.fromarray(input_crop1).convert('RGB').save(img_name)\n",
    "            take_image+=1\n",
    "            train_images_present+=1\n",
    "        if(train_images_present>desired_images_per_class_train):\n",
    "            break\n",
    "        take_image=0\n",
    "\n",
    "        while(train_images_present<=desired_images_per_class_train and take_image<len(image_names_of_class)):\n",
    "            input_img = all_images_loaded[i][image_names_of_class[take_image]]\n",
    "            img_name=train_image_path+'\\\\'+'noise_3'+image_names_of_class[take_image]\n",
    "            noise=iaa.AdditiveGaussianNoise(45,45)\n",
    "            input_noise=noise.augment_image(input_img)\n",
    "            im.fromarray(input_noise).convert('RGB').save(img_name)\n",
    "            take_image+=1\n",
    "            train_images_present+=1\n",
    "        if(train_images_present>desired_images_per_class_train):\n",
    "            break\n",
    "        take_image=0\n",
    "\n",
    "        while(train_images_present<=desired_images_per_class_train and take_image<len(image_names_of_class)):\n",
    "            input_img = all_images_loaded[i][image_names_of_class[take_image]]\n",
    "            img_name=train_image_path+'\\\\'+'shear_3'+image_names_of_class[take_image]\n",
    "            shear = iaa.Affine(shear=(36,72))\n",
    "            input_shear=shear.augment_image(input_img)\n",
    "            im.fromarray(input_shear).convert('RGB').save(img_name)\n",
    "            take_image+=1\n",
    "            train_images_present+=1\n",
    "        if(train_images_present>desired_images_per_class_train):\n",
    "            break\n",
    "        take_image=0\n",
    "\n",
    "        while(train_images_present<=desired_images_per_class_train and take_image<len(image_names_of_class)):\n",
    "            input_img = all_images_loaded[i][image_names_of_class[take_image]]\n",
    "            img_name=train_image_path+'\\\\'+'rot_4'+image_names_of_class[take_image]\n",
    "            rot1 = iaa.Affine(rotate=(78,8))\n",
    "            input_rot1 = rot1.augment_image(input_img)\n",
    "            im.fromarray(input_rot1).convert('RGB').save(img_name)\n",
    "            take_image+=1\n",
    "            train_images_present+=1\n",
    "        if(train_images_present>desired_images_per_class_train):\n",
    "            break\n",
    "        take_image=0\n",
    "\n",
    "        while(train_images_present<=desired_images_per_class_train and take_image<len(image_names_of_class)):\n",
    "            input_img = all_images_loaded[i][image_names_of_class[take_image]]\n",
    "            img_name=train_image_path+'\\\\'+'crop_4'+image_names_of_class[take_image]\n",
    "            crop1 = iaa.Crop(percent=(0.7, 0.2)) \n",
    "            input_crop1 = crop1.augment_image(input_img)\n",
    "            im.fromarray(input_crop1).convert('RGB').save(img_name)\n",
    "            take_image+=1\n",
    "            train_images_present+=1\n",
    "        if(train_images_present>desired_images_per_class_train):\n",
    "            break\n",
    "        take_image=0\n",
    "\n",
    "        while(train_images_present<=desired_images_per_class_train and take_image<len(image_names_of_class)):\n",
    "            input_img = all_images_loaded[i][image_names_of_class[take_image]]\n",
    "            img_name=train_image_path+'\\\\'+'noise_4'+image_names_of_class[take_image]\n",
    "            noise=iaa.AdditiveGaussianNoise(40,20)\n",
    "            input_noise=noise.augment_image(input_img)\n",
    "            im.fromarray(input_noise).convert('RGB').save(img_name)\n",
    "            take_image+=1\n",
    "            train_images_present+=1\n",
    "        if(train_images_present>desired_images_per_class_train):\n",
    "            break\n",
    "        take_image=0\n",
    "\n",
    "        while(train_images_present<=desired_images_per_class_train and take_image<len(image_names_of_class)):\n",
    "            input_img = all_images_loaded[i][image_names_of_class[take_image]]\n",
    "            img_name=train_image_path+'\\\\'+'shear_4'+image_names_of_class[take_image]\n",
    "            shear = iaa.Affine(shear=(72,-36))\n",
    "            input_shear=shear.augment_image(input_img)\n",
    "            im.fromarray(input_shear).convert('RGB').save(img_name)\n",
    "            take_image+=1\n",
    "            train_images_present+=1\n",
    "        if(train_images_present>desired_images_per_class_train):\n",
    "            break\n",
    "        take_image=0\n",
    "            "
   ]
  },
  {
   "cell_type": "code",
   "execution_count": null,
   "metadata": {},
   "outputs": [],
   "source": [
    "take_image=0\n",
    "for i in list(all_images_loaded.keys()):\n",
    "    take_image=0\n",
    "    train_images_present=images_openable_per_class[i]\n",
    "    test_images_present=0\n",
    "    test_image_path=path_new_images+'\\\\'+'test\\\\'+i\n",
    "    train_image_path=path_new_images+'\\\\'+'train\\\\'+i\n",
    "    take_image=0\n",
    "    if not(os.path.isdir(test_image_path)):\n",
    "        os.makedirs(test_image_path)\n",
    "    if not(os.path.isdir(train_image_path)):\n",
    "        os.makedirs(train_image_path)\n",
    "    image_names_of_class=list(all_images_loaded[i].keys())    \n",
    "    test_images_present=0    \n",
    "    while(test_images_present<=desired_images_per_class_test and take_image<len(image_names_of_class)):\n",
    "        input_img = all_images_loaded[i][image_names_of_class[take_image]]\n",
    "        img_name=test_image_path+'\\\\'+'rot_1'+image_names_of_class[take_image]\n",
    "        rot1 = iaa.Affine(rotate=(62,28))\n",
    "        input_rot1 = rot1.augment_image(input_img)\n",
    "        im.fromarray(input_rot1).convert('RGB').save(img_name)\n",
    "        take_image+=1\n",
    "        test_images_present+=1\n",
    "    if(test_images_present>desired_images_per_class_test):\n",
    "            continue\n",
    "    # take_image=0\n",
    "\n",
    "    while(test_images_present<=desired_images_per_class_test and take_image<len(image_names_of_class)):\n",
    "        input_img = all_images_loaded[i][image_names_of_class[take_image]]\n",
    "        img_name=test_image_path+'\\\\'+'crop_1'+image_names_of_class[take_image]\n",
    "        crop1 = iaa.Crop(percent=(0.1, 0.2)) \n",
    "        input_crop1 = crop1.augment_image(input_img)\n",
    "        im.fromarray(input_crop1).convert('RGB').save(img_name)\n",
    "        take_image+=1\n",
    "        test_images_present+=1\n",
    "    if(test_images_present>desired_images_per_class_test):\n",
    "            continue\n",
    "    # take_image=0\n",
    "\n",
    "    while(test_images_present<=desired_images_per_class_test and take_image<len(image_names_of_class)):\n",
    "        input_img = all_images_loaded[i][image_names_of_class[take_image]]\n",
    "        img_name=test_image_path+'\\\\'+'noise_1'+image_names_of_class[take_image]\n",
    "        noise=iaa.AdditiveGaussianNoise(34,81)\n",
    "        input_noise=noise.augment_image(input_img)\n",
    "        im.fromarray(input_noise).convert('RGB').save(img_name)\n",
    "        take_image+=1\n",
    "        test_images_present+=1\n",
    "    if(test_images_present>desired_images_per_class_test):\n",
    "            continue\n",
    "    # take_image=0\n",
    "\n",
    "    while(test_images_present<=desired_images_per_class_test and take_image<len(image_names_of_class)):\n",
    "        input_img = all_images_loaded[i][image_names_of_class[take_image]]\n",
    "        img_name=test_image_path+'\\\\'+'shear_1'+image_names_of_class[take_image]\n",
    "        shear = iaa.Affine(shear=(45,13))\n",
    "        input_shear=shear.augment_image(input_img)\n",
    "        im.fromarray(input_shear).convert('RGB').save(img_name)\n",
    "        take_image+=1\n",
    "        test_images_present+=1\n",
    "    if(test_images_present>desired_images_per_class_test):\n",
    "            continue\n",
    "    # take_image=0\n",
    "\n",
    "    while(test_images_present<=desired_images_per_class_test and take_image<len(image_names_of_class)):\n",
    "        input_img = all_images_loaded[i][image_names_of_class[take_image]]\n",
    "        img_name=test_image_path+'\\\\'+'rot_2'+image_names_of_class[take_image]\n",
    "        rot1 = iaa.Affine(rotate=(37,56))\n",
    "        input_rot1 = rot1.augment_image(input_img)\n",
    "        im.fromarray(input_rot1).convert('RGB').save(img_name)\n",
    "        take_image+=1\n",
    "        test_images_present+=1\n",
    "    if(test_images_present>desired_images_per_class_test):\n",
    "        continue\n",
    "    # take_image=0\n",
    "\n",
    "        \n"
   ]
  },
  {
   "cell_type": "code",
   "execution_count": null,
   "metadata": {},
   "outputs": [],
   "source": []
  },
  {
   "cell_type": "code",
   "execution_count": null,
   "metadata": {},
   "outputs": [],
   "source": []
  },
  {
   "cell_type": "code",
   "execution_count": null,
   "metadata": {},
   "outputs": [],
   "source": []
  },
  {
   "cell_type": "code",
   "execution_count": null,
   "metadata": {},
   "outputs": [],
   "source": []
  },
  {
   "cell_type": "code",
   "execution_count": null,
   "metadata": {},
   "outputs": [],
   "source": []
  },
  {
   "cell_type": "code",
   "execution_count": null,
   "metadata": {},
   "outputs": [],
   "source": []
  },
  {
   "cell_type": "code",
   "execution_count": null,
   "metadata": {},
   "outputs": [],
   "source": []
  },
  {
   "cell_type": "code",
   "execution_count": null,
   "metadata": {},
   "outputs": [],
   "source": []
  },
  {
   "cell_type": "code",
   "execution_count": null,
   "metadata": {},
   "outputs": [],
   "source": []
  },
  {
   "cell_type": "code",
   "execution_count": null,
   "metadata": {},
   "outputs": [],
   "source": []
  },
  {
   "cell_type": "code",
   "execution_count": null,
   "metadata": {},
   "outputs": [],
   "source": []
  },
  {
   "cell_type": "code",
   "execution_count": null,
   "metadata": {},
   "outputs": [],
   "source": []
  },
  {
   "cell_type": "code",
   "execution_count": null,
   "metadata": {},
   "outputs": [],
   "source": []
  },
  {
   "cell_type": "code",
   "execution_count": null,
   "metadata": {},
   "outputs": [],
   "source": [
    "# from matplotlib import pyplot as plt\n",
    "# input_img=all_images_loaded['Beetroot']['0.jpeg']\n",
    "# rot1 = iaa.Affine(rotate=(-50,20))\n",
    "# input_rot1 = rot1.augment_image(input_img)\n",
    "# shear = iaa.Affine(shear=(-50,20))\n",
    "# input_shear=shear.augment_image(input_img)\n",
    "# plt.imshow(input_shear)\n",
    "\n",
    "# # dest_image_name=image_path.replace(image_name,'hori_'+image_name)"
   ]
  },
  {
   "cell_type": "code",
   "execution_count": null,
   "metadata": {},
   "outputs": [],
   "source": [
    "# plt.imshow(input_rot1)"
   ]
  },
  {
   "cell_type": "code",
   "execution_count": null,
   "metadata": {},
   "outputs": [],
   "source": [
    "# path=r'./NewDataset/Cleared'\n",
    "# path=pathlib.Path(path)\n",
    "# d1={}\n",
    "# for i in path.glob('*'):\n",
    "#     print(i)\n",
    "#     d1[str(i).split('\\\\')[-1]]=len(list(i.glob('*')))\n",
    "    \n",
    "#     for j in i.glob('*'):\n",
    "#         pass\n",
    "# print(d1)\n",
    "#         print(j)\n",
    "#         try:\n",
    "#             image_path=str(j)\n",
    "#             image_name=image_path.split('\\\\')[-1]\n",
    "#             input_img = imageio.imread(image_path)\n",
    "#             #Horizontal Flip\n",
    "#             hflip= iaa.Fliplr(p=1.0)               \n",
    "#             input_hf= hflip.augment_image(input_img)\n",
    "#             dest_image_name=image_path.replace(image_name,'hori_'+image_name)\n",
    "#             im.fromarray(input_hf).convert('RGB').save(dest_image_name)\n",
    "#             #Vertical Flip\n",
    "#             vflip= iaa.Flipud(p=1.0) \n",
    "#             input_vf= vflip.augment_image(input_img)\n",
    "#             dest_image_name=image_path.replace(image_name,'verti_'+image_name)\n",
    "#             im.fromarray(input_vf).convert('RGB').save(dest_image_name)\n",
    "#             rot1 = iaa.Affine(rotate=(-50,20))\n",
    "#             input_rot1 = rot1.augment_image(input_img)\n",
    "#             dest_image_name=image_path.replace(image_name,'rota_'+image_name)\n",
    "#             im.fromarray(input_rot1).convert('RGB').save(dest_image_name)\n",
    "#             crop1 = iaa.Crop(percent=(0, 0.3)) \n",
    "#             input_crop1 = crop1.augment_image(input_img)\n",
    "#             dest_image_name=image_path.replace(image_name,'crop_'+image_name)\n",
    "#             im.fromarray(input_crop1).convert('RGB').save(dest_image_name)\n",
    "#             noise=iaa.AdditiveGaussianNoise(10,40)\n",
    "#             input_noise=noise.augment_image(input_img)\n",
    "#             dest_image_name=image_path.replace(image_name,'noisy_'+image_name)\n",
    "#             im.fromarray(input_noise).convert('RGB').save(dest_image_name)\n",
    "#             shear = iaa.Affine(shear=(-40,40))\n",
    "#             input_shear=shear.augment_image(input_img)\n",
    "#             dest_image_name=image_path.replace(image_name,'affined_'+image_name)\n",
    "#             im.fromarray(input_shear).convert('RGB').save(dest_image_name)\n",
    "#         except Exception as e:\n",
    "#             fp=open('error_log.txt','w+')\n",
    "#             stri='Error '+str(e)+'\\n'\n",
    "#             fp.write(stri)\n",
    "#             fp.close()\n",
    "        "
   ]
  }
 ],
 "metadata": {
  "kernelspec": {
   "display_name": "Python 3.8.3 64-bit",
   "language": "python",
   "name": "python3"
  },
  "language_info": {
   "codemirror_mode": {
    "name": "ipython",
    "version": 3
   },
   "file_extension": ".py",
   "mimetype": "text/x-python",
   "name": "python",
   "nbconvert_exporter": "python",
   "pygments_lexer": "ipython3",
   "version": "3.8.3"
  },
  "orig_nbformat": 4,
  "vscode": {
   "interpreter": {
    "hash": "d3c6b6b45bebb02606c3646cfdec0e122a65570bb0ce8be8aafe2349a76bca39"
   }
  }
 },
 "nbformat": 4,
 "nbformat_minor": 2
}
